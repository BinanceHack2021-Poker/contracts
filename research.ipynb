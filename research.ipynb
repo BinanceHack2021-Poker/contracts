{
 "cells": [
  {
   "cell_type": "code",
   "execution_count": 5,
   "metadata": {},
   "outputs": [],
   "source": [
    "from web3 import Web3"
   ]
  },
  {
   "cell_type": "code",
   "execution_count": 3,
   "metadata": {},
   "outputs": [],
   "source": [
    "%matplotlib inline\n",
    "%config Completer.use_jedi = False"
   ]
  },
  {
   "cell_type": "code",
   "execution_count": 8,
   "metadata": {},
   "outputs": [
    {
     "data": {
      "text/plain": [
       "HexBytes('0x5569044719a1ec3b04d0afa9e7a5310c7c0473331d13dc9fafe143b2c4e8148a')"
      ]
     },
     "execution_count": 8,
     "metadata": {},
     "output_type": "execute_result"
    }
   ],
   "source": [
    "Web3.soliditySha3(['uint256'], [123])"
   ]
  },
  {
   "cell_type": "code",
   "execution_count": 4,
   "metadata": {},
   "outputs": [],
   "source": [
    "w3 = web3.Account"
   ]
  },
  {
   "cell_type": "code",
   "execution_count": 87,
   "metadata": {},
   "outputs": [
    {
     "data": {
      "text/plain": [
       "HexBytes('0x3213dd3dcd0a94f52958034a3086c2a1a093b24f30b15d1ae27fdea7d6dbd337')"
      ]
     },
     "execution_count": 87,
     "metadata": {},
     "output_type": "execute_result"
    }
   ],
   "source": [
    "Web3.keccak(247)"
   ]
  },
  {
   "cell_type": "code",
   "execution_count": 77,
   "metadata": {},
   "outputs": [
    {
     "data": {
      "text/plain": [
       "HexBytes('0xce6ad7a82c579f00c8c2ec78b19ce4bf9bed540bc4f74d7d6c4bb7ad14cb5db6')"
      ]
     },
     "execution_count": 77,
     "metadata": {},
     "output_type": "execute_result"
    }
   ],
   "source": [
    "Web3.solidityKeccak([\"string\"],[\"247\"])"
   ]
  },
  {
   "cell_type": "code",
   "execution_count": 111,
   "metadata": {},
   "outputs": [
    {
     "data": {
      "text/plain": [
       "HexBytes('0x7c3022d214e64b4bd8391527509a552cdc945b8402914c2e79441a3684eb4aca')"
      ]
     },
     "execution_count": 111,
     "metadata": {},
     "output_type": "execute_result"
    }
   ],
   "source": [
    "Web3.solidityKeccak([\"string\",\"bytes\"],[\"\\x19Ethereum Signed Message:\\n32\",  Web3.solidityKeccak([\"string\"], [\"247\"])])"
   ]
  },
  {
   "cell_type": "code",
   "execution_count": 105,
   "metadata": {},
   "outputs": [],
   "source": [
    "def prefix(hash_):\n",
    "    return Web3.keccak(text=\"\\x19Ethereum Signed Message:\\n32\", hexstr=hash_)"
   ]
  },
  {
   "cell_type": "code",
   "execution_count": 17,
   "metadata": {},
   "outputs": [],
   "source": [
    "signature = \"0x135dd62b11d4bcbc319fffde1f080248c26082fd3a16b7ea6552e04fd866fb5f5a5d35d89229b511b140\"\\\n",
    "+\"cd6a43d856e8a3d0718a11161c98f0278ca53023e6a11b\"\n",
    "hash_ = \"0xc5b5059c5d2b91ac5811bbe2f379fbb1e5f513eeb813e38397fe031f93cac2dd\"\n",
    "address = \"0x5B38Da6a701c568545dCfcB03FcB875f56beddC4\""
   ]
  },
  {
   "cell_type": "code",
   "execution_count": 57,
   "metadata": {},
   "outputs": [],
   "source": [
    "# message = prefix(Web3.soliditySha3([\"string\"], [\"247\"]))\n",
    "message = Web3.soliditySha3([\"bytes\"], [\"0x247\"])"
   ]
  },
  {
   "cell_type": "code",
   "execution_count": 58,
   "metadata": {},
   "outputs": [
    {
     "data": {
      "text/plain": [
       "HexBytes('0xeff8d054ad986427bd5b41cc24393a166c0b1a256910bfc2d7b56a8dc1116563')"
      ]
     },
     "execution_count": 58,
     "metadata": {},
     "output_type": "execute_result"
    }
   ],
   "source": [
    "message"
   ]
  },
  {
   "cell_type": "code",
   "execution_count": 18,
   "metadata": {},
   "outputs": [
    {
     "data": {
      "text/plain": [
       "HexBytes('0x4acc0814690d41c6a0416bbc7aaaae9641aa0038a650eb888109369397b0a899')"
      ]
     },
     "execution_count": 18,
     "metadata": {},
     "output_type": "execute_result"
    }
   ],
   "source": [
    "Web3.soliditySha3(['bytes', 'bytes'], [address , hash_])"
   ]
  },
  {
   "cell_type": "code",
   "execution_count": 22,
   "metadata": {},
   "outputs": [
    {
     "data": {
      "text/plain": [
       "HexBytes('0x15add2d3195cb1df8c8ff739231137cf9cb32b4f4c4cd5d1e0b36ac122598b3a')"
      ]
     },
     "execution_count": 22,
     "metadata": {},
     "output_type": "execute_result"
    }
   ],
   "source": [
    "Web3.soliditySha3(['bytes', 'string'], [address, \"247\"])"
   ]
  },
  {
   "cell_type": "code",
   "execution_count": 112,
   "metadata": {},
   "outputs": [],
   "source": [
    "import requests"
   ]
  },
  {
   "cell_type": "code",
   "execution_count": 135,
   "metadata": {},
   "outputs": [],
   "source": [
    "DEFAULT_TESTNET_SENDER_ADDRESS=\"0x795a04d0F74e892c452bB45747dFFdcDA286FBE7\""
   ]
  },
  {
   "cell_type": "code",
   "execution_count": 136,
   "metadata": {},
   "outputs": [],
   "source": [
    "data = {\n",
    "    \"msg\": \"247\",\n",
    "    \"private_ext\": DEFAULT_TESTNET_SENDER_PRIVATE_KEY\n",
    "}\n",
    "r = requests.post(\"http://localhost:8001/sign\", json=data)"
   ]
  },
  {
   "cell_type": "code",
   "execution_count": 137,
   "metadata": {},
   "outputs": [
    {
     "data": {
      "text/plain": [
       "<Response [200]>"
      ]
     },
     "execution_count": 137,
     "metadata": {},
     "output_type": "execute_result"
    }
   ],
   "source": [
    "r"
   ]
  },
  {
   "cell_type": "code",
   "execution_count": 138,
   "metadata": {},
   "outputs": [
    {
     "data": {
      "text/plain": [
       "b'{\"status\":\"OK\"}'"
      ]
     },
     "execution_count": 138,
     "metadata": {},
     "output_type": "execute_result"
    }
   ],
   "source": [
    "r.content"
   ]
  },
  {
   "cell_type": "code",
   "execution_count": 179,
   "metadata": {},
   "outputs": [],
   "source": [
    "data = {\n",
    "    \"private_ext\": DEFAULT_TESTNET_SENDER_PRIVATE_KEY\n",
    "}\n",
    "r = requests.post(\"http://localhost:8001/deploy\", json=data)"
   ]
  },
  {
   "cell_type": "code",
   "execution_count": 183,
   "metadata": {},
   "outputs": [
    {
     "data": {
      "text/plain": [
       "b'{\"status\":\"OK\"}'"
      ]
     },
     "execution_count": 183,
     "metadata": {},
     "output_type": "execute_result"
    }
   ],
   "source": [
    "r.content"
   ]
  },
  {
   "cell_type": "code",
   "execution_count": 149,
   "metadata": {},
   "outputs": [],
   "source": [
    "import json"
   ]
  },
  {
   "cell_type": "code",
   "execution_count": 184,
   "metadata": {},
   "outputs": [],
   "source": [
    "data = {\n",
    "    \"private_ext\": DEFAULT_TESTNET_SENDER_PRIVATE_KEY,\n",
    "    \"method\": \"revealCards\",\n",
    "    \"contract_address\": \"0x9268F90b81df70178b67E828C2DA6b8BB7DA5387\",\n",
    "    \"args_json\": {\n",
    "        \"game_id\": 0,\n",
    "        \"card_hash\": \"0x10\",\n",
    "        \"hash\": \"247\"\n",
    "    }\n",
    "}\n",
    "r = requests.post(\"http://localhost:8001/call\", json=data)"
   ]
  },
  {
   "cell_type": "code",
   "execution_count": 185,
   "metadata": {},
   "outputs": [
    {
     "data": {
      "text/plain": [
       "b'{\"status\":\"OK\"}'"
      ]
     },
     "execution_count": 185,
     "metadata": {},
     "output_type": "execute_result"
    }
   ],
   "source": [
    "r.content"
   ]
  },
  {
   "cell_type": "code",
   "execution_count": null,
   "metadata": {},
   "outputs": [],
   "source": []
  }
 ],
 "metadata": {
  "kernelspec": {
   "display_name": "Python 3",
   "language": "python",
   "name": "python3"
  },
  "language_info": {
   "codemirror_mode": {
    "name": "ipython",
    "version": 3
   },
   "file_extension": ".py",
   "mimetype": "text/x-python",
   "name": "python",
   "nbconvert_exporter": "python",
   "pygments_lexer": "ipython3",
   "version": "3.7.9"
  }
 },
 "nbformat": 4,
 "nbformat_minor": 4
}
